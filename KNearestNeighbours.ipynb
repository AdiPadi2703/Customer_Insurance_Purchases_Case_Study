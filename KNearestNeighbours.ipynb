{
 "cells": [
  {
   "cell_type": "markdown",
   "id": "87d5ae7d",
   "metadata": {},
   "source": [
    "K Nearest Neighbours"
   ]
  },
  {
   "cell_type": "code",
   "execution_count": null,
   "id": "3d4c4c0a",
   "metadata": {},
   "outputs": [],
   "source": [
    "import numpy as np\n",
    "import pandas as pd\n",
    "import sys\n",
    "np.set_printoptions(threshold = sys.maxsize)\n",
    "import matplotlib.pyplot as plt"
   ]
  },
  {
   "cell_type": "code",
   "execution_count": null,
   "id": "3011ae86",
   "metadata": {},
   "outputs": [],
   "source": [
    "dataset = pd.read_csv('Social_Network_Ads.csv')"
   ]
  },
  {
   "cell_type": "markdown",
   "id": "193bb5b8",
   "metadata": {},
   "source": [
    "Splitting the dataset into independent and dependent sets"
   ]
  },
  {
   "cell_type": "code",
   "execution_count": null,
   "id": "6e62451f",
   "metadata": {},
   "outputs": [],
   "source": [
    "x = dataset.iloc[:,2:4].values\n",
    "y = dataset.iloc[:,4:].values"
   ]
  },
  {
   "cell_type": "markdown",
   "id": "07554ee3",
   "metadata": {},
   "source": [
    "Splitting sets into training and testing"
   ]
  },
  {
   "cell_type": "code",
   "execution_count": null,
   "id": "e29d411e",
   "metadata": {},
   "outputs": [],
   "source": [
    "from sklearn.model_selection import train_test_split"
   ]
  },
  {
   "cell_type": "code",
   "execution_count": null,
   "id": "fc126f8c",
   "metadata": {},
   "outputs": [],
   "source": [
    "x_train,x_test,y_train,y_test = train_test_split(x,y,test_size  = 0.25,random_state = 0 )"
   ]
  },
  {
   "cell_type": "markdown",
   "id": "e32c52c6",
   "metadata": {},
   "source": [
    "Data preprocessing (normalisation)"
   ]
  },
  {
   "cell_type": "code",
   "execution_count": null,
   "id": "a86c0b06",
   "metadata": {},
   "outputs": [],
   "source": [
    "from sklearn.preprocessing import StandardScaler"
   ]
  },
  {
   "cell_type": "code",
   "execution_count": null,
   "id": "fdd4350b",
   "metadata": {},
   "outputs": [],
   "source": [
    "sc = StandardScaler()\n",
    "X_train = sc.fit_transform(x_train)\n",
    "X_test = sc.transform(x_test)"
   ]
  },
  {
   "cell_type": "markdown",
   "id": "2cb172a5",
   "metadata": {},
   "source": [
    "Training the model"
   ]
  },
  {
   "cell_type": "code",
   "execution_count": null,
   "id": "6b040b48",
   "metadata": {},
   "outputs": [],
   "source": [
    "from sklearn.neighbors import KNeighborsClassifier"
   ]
  },
  {
   "cell_type": "code",
   "execution_count": null,
   "id": "b81405a1",
   "metadata": {},
   "outputs": [],
   "source": [
    "classifier = KNeighborsClassifier(n_neighbors = 10,metric = 'minkowski',p = 2)\n",
    "classifier.fit(X_train,y_train)"
   ]
  },
  {
   "cell_type": "code",
   "execution_count": null,
   "id": "5b34e80a",
   "metadata": {},
   "outputs": [],
   "source": [
    "y_pred  = classifier.predict(X_test)"
   ]
  },
  {
   "cell_type": "code",
   "execution_count": null,
   "id": "37035c12",
   "metadata": {},
   "outputs": [],
   "source": [
    "np.concatenate((y_pred.reshape(len(y_pred),1),y_test.reshape(len(y_test),1)),1)"
   ]
  },
  {
   "cell_type": "markdown",
   "id": "ac3a4c19",
   "metadata": {},
   "source": [
    "Analysing Performance of the model"
   ]
  },
  {
   "cell_type": "code",
   "execution_count": null,
   "id": "648e1afe",
   "metadata": {},
   "outputs": [],
   "source": [
    "from sklearn.metrics import confusion_matrix,accuracy_score,classification_report\n",
    "cm = confusion_matrix(y_pred,y_test)\n",
    "print(cm)\n",
    "print(accuracy_score(y_pred,y_test))\n",
    "print(classification_report(y_pred,y_test))"
   ]
  },
  {
   "cell_type": "markdown",
   "id": "3c2c32a8",
   "metadata": {},
   "source": [
    "For visualisation, the following two cells are to be run. The same code can be run for the other models, (the set names have to be changed)"
   ]
  },
  {
   "cell_type": "code",
   "execution_count": null,
   "id": "d7e2ece3",
   "metadata": {},
   "outputs": [],
   "source": [
    "from matplotlib.colors import ListedColormap"
   ]
  },
  {
   "cell_type": "code",
   "execution_count": null,
   "id": "f7caecba",
   "metadata": {},
   "outputs": [],
   "source": [
    "X_set,y_set = sc.inverse_transform(X_test),y_test\n",
    "X1,X2 = np.meshgrid(np.arange(start = X_set[:,0].min()-10,stop = X_set[:,0].max() + 10,step = 0.25),np.arange(start = X_set[:,1].min()-1000,stop = X_set[:,1].max() + 1000,step = 0.25))\n",
    "plt.contourf(X1,X2,classifier.predict(sc.transform(np.array([X1.ravel(),X2.ravel()]).T)).reshape(X1.shape),alpha = 0.75,cmap = ListedColormap(('red','green')))\n",
    "plt.xlim(X1.min(),X1.max())\n",
    "plt.ylim(X2.min(),X2.max())\n",
    "for i,j in enumerate(np.unique(y_set)):\n",
    "    plt.scatter(X_set[y_set -- j,0], X_set[y_set -- j,1],c = ListedColormap(('red','green'))(i),label = j)\n",
    "plt.title('KNN (Test Set)')\n",
    "plt.xlabel('Age')\n",
    "plt.ylabel('Estimated Salary')\n",
    "plt.legend()\n",
    "plt.show()"
   ]
  }
 ],
 "metadata": {
  "kernelspec": {
   "display_name": "Python 3 (ipykernel)",
   "language": "python",
   "name": "python3"
  },
  "language_info": {
   "codemirror_mode": {
    "name": "ipython",
    "version": 3
   },
   "file_extension": ".py",
   "mimetype": "text/x-python",
   "name": "python",
   "nbconvert_exporter": "python",
   "pygments_lexer": "ipython3",
   "version": "3.10.9"
  }
 },
 "nbformat": 4,
 "nbformat_minor": 5
}
